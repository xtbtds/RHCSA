{
  "nbformat": 4,
  "nbformat_minor": 0,
  "metadata": {
    "colab": {
      "provenance": [],
      "collapsed_sections": [],
      "authorship_tag": "ABX9TyMxN+xXbHHlK/V9/uLkQDYE",
      "include_colab_link": true
    },
    "kernelspec": {
      "name": "python3",
      "display_name": "Python 3"
    },
    "language_info": {
      "name": "python"
    }
  },
  "cells": [
    {
      "cell_type": "markdown",
      "metadata": {
        "id": "view-in-github",
        "colab_type": "text"
      },
      "source": [
        "<a href=\"https://colab.research.google.com/github/xtbtds/RHCSA/blob/main/3_File_Management.ipynb\" target=\"_parent\"><img src=\"https://colab.research.google.com/assets/colab-badge.svg\" alt=\"Open In Colab\"/></a>"
      ]
    },
    {
      "cell_type": "markdown",
      "source": [
        "## Finding Files\n",
        "`which` $ - $ looks for binaries in $PATH  \n",
        "\n",
        "`locate` $ - $ uses a db, built by `uodatedb` to find files in db  \n",
        "\n",
        "`find`\n",
        "- `find / -name \"hosts\"` $ - $ search exactly the file named \"hosts\"\n",
        "- `find / -type f -size +100M`\n",
        "  - `+100c` $ - $ more that 100 characters\n",
        "- `find / -user student`\n",
        "- `find /etc -exec grep -l student {} \\;` $ - $ finds files that contain text \"student\"\n",
        "  - `grep -l student /etc/*` $ - $ the same\n",
        "\n",
        "- `find /etc -exec grep -l student {} \\; -exec cp {} /tmp \\;`\n"
      ],
      "metadata": {
        "id": "x_8BN9D8XyHz"
      }
    },
    {
      "cell_type": "markdown",
      "source": [
        "## Links\n",
        "**Hard links**  \n",
        "inode (3) $⟵$ \n",
        "- hardlink name1 (same inode)\n",
        "- hardlink name2\n",
        "- hardlink name3\n",
        "\n",
        "**Symbolic link**  \n",
        "*Cross-device; for directories; if hardlink name2 is deleted, symbolic link2 become invalid.*  \n",
        "inode (3) $⟵$ \n",
        "- hardlink name1\n",
        "  - symbolic link1 (own inode)\n",
        "- hardlink name2\n",
        "- hardlink name3\n",
        "  - symbolic link3 (own inode)\n",
        "\n",
        "______________\n",
        "\n",
        "- `ln /etc/hosts /root/hardhosts`\n",
        "- `ln -s /etc/hosts symhosts` $ - $ must specify link name"
      ],
      "metadata": {
        "id": "CtcPOQAFZhnu"
      }
    },
    {
      "cell_type": "markdown",
      "source": [
        "## Tar\n",
        "- `tar -cvf my_arch.tar /home /etc`\n",
        "  - `-c` create\n",
        "  - `-v` verbose\n",
        "  - `-f` file\n",
        "\n",
        "- `tar -tvf` $ - $ show contents of arch\n",
        "- `tar -xvf my_arch` $ - $ extract to current dir\n",
        "  - `-C` to switch the output path\n",
        "- `-z`, `-j`, `-J` $ - $ for compression\n",
        "\n"
      ],
      "metadata": {
        "id": "RirC7S72eQ_6"
      }
    },
    {
      "cell_type": "markdown",
      "source": [
        "## Compressing\n",
        "- `gzip mytar`\n",
        "- `gunzip mytar.gz`\n",
        "\n",
        "Other:\n",
        "- `bzip2`\n",
        "- `zip`\n",
        "- `xz`"
      ],
      "metadata": {
        "id": "Fc6EzDTogDbD"
      }
    },
    {
      "cell_type": "markdown",
      "source": [],
      "metadata": {
        "id": "l1lwxkVjhwDj"
      }
    }
  ]
}