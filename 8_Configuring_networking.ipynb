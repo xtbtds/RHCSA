{
  "nbformat": 4,
  "nbformat_minor": 0,
  "metadata": {
    "colab": {
      "provenance": [],
      "collapsed_sections": [],
      "authorship_tag": "ABX9TyNO6KZmDWH8xDjHklGal+cJ",
      "include_colab_link": true
    },
    "kernelspec": {
      "name": "python3",
      "display_name": "Python 3"
    },
    "language_info": {
      "name": "python"
    }
  },
  "cells": [
    {
      "cell_type": "markdown",
      "metadata": {
        "id": "view-in-github",
        "colab_type": "text"
      },
      "source": [
        "<a href=\"https://colab.research.google.com/github/xtbtds/RHCSA/blob/main/8_Configuring_networking.ipynb\" target=\"_parent\"><img src=\"https://colab.research.google.com/assets/colab-badge.svg\" alt=\"Open In Colab\"/></a>"
      ]
    },
    {
      "cell_type": "markdown",
      "source": [
        "## NIC\n",
        "- `ip link show` $ - $ see current devices\n",
        "- `ip addr show` $ - $ config of these devices\n"
      ],
      "metadata": {
        "id": "Wv6g5_Qrp2td"
      }
    },
    {
      "cell_type": "markdown",
      "source": [
        "## Managing runtime config\n",
        "- `ip -s link show` $ - $ shows statistics\n",
        "\n",
        "#### Adding IP address\n",
        "- `ip addr add dev ens33 10.9.0.10/24` $ - $ secondary, only runtime\n",
        "\n",
        "____\n",
        "- `ip route show`\n",
        "- `ip route del default via 192.168.4.2`\n",
        "- `ip route add ...`\n",
        "- `/etc/resolv.conf` $ - $ DNS\n",
        "\n"
      ],
      "metadata": {
        "id": "OjyUR8wywEvJ"
      }
    },
    {
      "cell_type": "markdown",
      "source": [
        "## RHEL 8 networking\n",
        "- `/etc/sysconfig/networkscripts/ifcfg-ens33`"
      ],
      "metadata": {
        "id": "YCPKem9Q0r4Q"
      }
    },
    {
      "cell_type": "markdown",
      "source": [
        "## Persistent networking\n",
        "- `systemctl status NetworkManager`\n",
        "- `rpm -qa | grep bash_completion` $ - $ package for nmcli\n",
        "- `nmcli connection show`\n",
        "- `nmcli connection ...`\n",
        "- `nmcli connection up ethernet-ens33` $ - $ after making changes"
      ],
      "metadata": {
        "id": "u7SlFgIY1a-y"
      }
    },
    {
      "cell_type": "markdown",
      "source": [
        "## Testing network\n",
        "- `ping -c 1 www.google.com` $ - $ ping 1 time\n",
        "- `ping -f www.google.com` $ - $ received, transmitted, packet loss\n",
        "- `dig rhatcert.com` $ - $ testing DNS\n",
        "\n",
        "#### Problem: Network is unreachable\n",
        "- `ip route show`"
      ],
      "metadata": {
        "id": "HC6J-ITg60u7"
      }
    }
  ]
}