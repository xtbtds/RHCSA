{
  "nbformat": 4,
  "nbformat_minor": 0,
  "metadata": {
    "colab": {
      "provenance": [],
      "collapsed_sections": [],
      "authorship_tag": "ABX9TyOU9L7wO2CgOr7yBnL12M4Y",
      "include_colab_link": true
    },
    "kernelspec": {
      "name": "python3",
      "display_name": "Python 3"
    },
    "language_info": {
      "name": "python"
    }
  },
  "cells": [
    {
      "cell_type": "markdown",
      "metadata": {
        "id": "view-in-github",
        "colab_type": "text"
      },
      "source": [
        "<a href=\"https://colab.research.google.com/github/xtbtds/RHCSA/blob/main/9_Processes.ipynb\" target=\"_parent\"><img src=\"https://colab.research.google.com/assets/colab-badge.svg\" alt=\"Open In Colab\"/></a>"
      ]
    },
    {
      "cell_type": "markdown",
      "source": [
        "All tasks are started as **processes**. Some processes start multiple **threads**, individual threads cannot be managed. Tasks that are managed from a shell can be managed as **jobs** (back- of foreground).  \n",
        "\n"
      ],
      "metadata": {
        "id": "RdZLhgbEAptV"
      }
    },
    {
      "cell_type": "markdown",
      "source": [
        "## Jobs\n",
        "- `command &` $ - $ start a job in a background\n",
        "- `ctrl-z` $ - $ move to background\n",
        "- `bg` $ - $ move to background\n",
        "- `dd if=/dev/zero of=/dev/null` $ - $ move nothing to nowhere\n",
        "- `jobs` $ - $ currently running\n",
        "- `fg [n]` $ - $ move the last (n) job to the foreground\n"
      ],
      "metadata": {
        "id": "rgwYKjl3BVxf"
      }
    },
    {
      "cell_type": "markdown",
      "source": [
        "## ps\n",
        "- `ps aux`\n",
        "- `ps -fax` $ - $ hierarchical relations between processes\n",
        "- `ps - fU luna` $ - $ owned by user\n",
        "- `ps -f --forest -C sshd` $ - $ process tree for sshd\n",
        "- `ps L` $ - $ format specifiers\n",
        "- `ps -L` $ - $ \n",
        "- `ps -eo pid, ppid, user, cmd` $ - $ format\n"
      ],
      "metadata": {
        "id": "5IAMN7fYCCHO"
      }
    },
    {
      "cell_type": "markdown",
      "source": [
        "## Memory usage\n",
        "Linux places as many files as possible in cache to guarantee fast access. Swap is used as an overflow buffer of emulated RAM. Inactive memory is moved to swap firstly.  \n",
        "- `free -m`\n"
      ],
      "metadata": {
        "id": "L4Nbga0QYHcw"
      }
    },
    {
      "cell_type": "markdown",
      "source": [
        "## CPU load\n",
        "- `uptime`\n",
        "- `watch uptime` $ - $ repeats every 2 sec\n",
        "- `lscpu` $ - $ how many cpu, threads per core etc."
      ],
      "metadata": {
        "id": "F2KsWJgTZRQy"
      }
    },
    {
      "cell_type": "markdown",
      "source": [
        "## top\n",
        "- `f` $ - $ select from available display fields\n",
        "- `M` $ - $ filter on memory usage (cpu load by default)\n",
        "- `W` $ - $ save new display settings\n"
      ],
      "metadata": {
        "id": "esJ9YIbWaX8x"
      }
    },
    {
      "cell_type": "markdown",
      "source": [
        "## Signals\n",
        "- `man 7 signals`\n",
        "- `top` then `k` then 15 (before stop process can save smth) or 9 (kill, opened files will be damaged)\n",
        "- `kill PID` $ - $ 15 (sigterm) by default\n",
        "- `kill -9 PID`\n",
        "- `pkill`\n",
        "- `killall NAME`"
      ],
      "metadata": {
        "id": "1jGkTp5d4eRQ"
      }
    },
    {
      "cell_type": "markdown",
      "source": [
        "## Priorities and niceness\n",
        "- `nice/renice`  for non-realtime processes\n",
        "- from -20 (top prio) to 19 (low prio)  \n",
        "- `PR` column from top: `rt` means realtime, goes always before anyone\n",
        "- `top` then `r` $ - $ renice\n",
        "- `nice -n -1 command` $ - $ start a job with assigned prio\n",
        "- `renice -n 4 PID`\n"
      ],
      "metadata": {
        "id": "lk6lKn5c6u_r"
      }
    },
    {
      "cell_type": "markdown",
      "source": [
        "## Tuned profiles\n",
        "Optimizes performance.  \n",
        "- `tuned-adm list` $ - $ list\n",
        "- `tuned-adm profile <name>` $ - $ set\n",
        "- `tuned-adm active` $ - $ show current"
      ],
      "metadata": {
        "id": "-ITfDuvp8FpU"
      }
    }
  ]
}