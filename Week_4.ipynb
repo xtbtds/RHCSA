{
  "nbformat": 4,
  "nbformat_minor": 0,
  "metadata": {
    "colab": {
      "provenance": []
    },
    "kernelspec": {
      "name": "python3",
      "display_name": "Python 3"
    },
    "language_info": {
      "name": "python"
    }
  },
  "cells": [
    {
      "cell_type": "markdown",
      "source": [
        "### 1\n",
        "groupadd web  \n",
        "useradd user1  \n",
        "useradd user2  \n",
        "usermod user1 -aG web   \n",
        "usermod user2 -aG web  \n",
        "mkdir /www  \n",
        "chgrp web www  \n",
        "chmod g+s /www  \n"
      ],
      "metadata": {
        "id": "DZpSNi5Wjgf5"
      }
    },
    {
      "cell_type": "markdown",
      "source": [
        "### 2\n",
        "lsblk  \n",
        "parted /dev/sda  \n",
        "mklabel msdos  \n",
        "mkpart  \n",
        "p  \n",
        "ext4  \n",
        "1MiB   \n",
        "1024MiB    \n",
        "print  \n",
        "mkpart  \n",
        "p  \n",
        "linux-swap   \n",
        "1024MiB    \n",
        "2047MiB  \n",
        "print  \n",
        "quit\n",
        "\n",
        "mount /dev/sda1 /www (ERROR)  \n",
        "mkfs.ext4 /dev/sda1  \n",
        "lsblk  \n",
        "mount /dev/sda2 /www  (ERROR)  \n",
        "mkswap /dev/sda2  \n",
        "free -m  \n",
        "swapon /dev/sda2  \n",
        "free -m   \n",
        "\n",
        "\n",
        "vi /etc/fstab  \n",
        "/dev/sda1 /www ext4 defaults 0 0  \n",
        "/dev/sda2 swap swap defaults 0 0  \n",
        "systemctl daemon-reload  \n"
      ],
      "metadata": {
        "id": "xf7l7RYwkzm4"
      }
    },
    {
      "cell_type": "markdown",
      "source": [
        "### 3\n"
      ],
      "metadata": {
        "id": "L9OZb8QA1Qa_"
      }
    },
    {
      "cell_type": "markdown",
      "source": [
        "### 6\n",
        "systemctl units --type=service running  \n",
        "journalctl -f  \n",
        "*other terminal*: systemctl stop httpd  "
      ],
      "metadata": {
        "id": "7kbz7xB2kTiE"
      }
    },
    {
      "cell_type": "markdown",
      "source": [
        "### 7\n",
        "yum download httpd --resolve  \n",
        "rpm --install -v *.rpm  \n",
        "systemctl states httpd  \n"
      ],
      "metadata": {
        "id": "-ZLNmuxMlmcX"
      }
    },
    {
      "cell_type": "markdown",
      "source": [
        "### 8\n"
      ],
      "metadata": {
        "id": "gb-_tqFdl_xd"
      }
    }
  ]
}