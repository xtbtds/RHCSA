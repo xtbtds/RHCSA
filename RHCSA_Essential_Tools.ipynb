{
  "nbformat": 4,
  "nbformat_minor": 0,
  "metadata": {
    "colab": {
      "provenance": [],
      "collapsed_sections": [],
      "authorship_tag": "ABX9TyOTDY3f5dgP9Dq5QouuRrxT",
      "include_colab_link": true
    },
    "kernelspec": {
      "name": "python3",
      "display_name": "Python 3"
    },
    "language_info": {
      "name": "python"
    }
  },
  "cells": [
    {
      "cell_type": "markdown",
      "metadata": {
        "id": "view-in-github",
        "colab_type": "text"
      },
      "source": [
        "<a href=\"https://colab.research.google.com/github/xtbtds/RHCSA/blob/main/RHCSA_Essential_Tools.ipynb\" target=\"_parent\"><img src=\"https://colab.research.google.com/assets/colab-badge.svg\" alt=\"Open In Colab\"/></a>"
      ]
    },
    {
      "cell_type": "markdown",
      "source": [
        "# Essential Tools"
      ],
      "metadata": {
        "id": "VFs3TITj13CS"
      }
    },
    {
      "cell_type": "markdown",
      "source": [
        "- `ip addr show`  \n",
        "- `free -m` $ - $ free memory in mb  \n",
        "- `df -h` $ - $ disk memory  \n",
        "- `findmnt` $ - $ find mounted filesystems with tree structure  "
      ],
      "metadata": {
        "id": "4znXicna1-HX"
      }
    },
    {
      "cell_type": "markdown",
      "source": [
        "### Working with bash shell\n",
        "Bash is the default shell.  \n",
        "- **tab completion** (or tab-tab to see available options)  \n",
        "- **`history`**  \n",
        " - `!11` $ - $ execute command from history by its id\n",
        " - `!f` $ - $ last command that starts with \"f\"  \n",
        " - `ctrl + R` $ - $ reverse-i-search: you can start writing a word and it will show commands that have this word  \n",
        "- **piping** $ - $ using the output of 1st command as input for the 2nd  \n",
        "- **redirection**  \n",
        " - `>` $ - $ rewrite\n",
        " - `>>` $ - $ append\n",
        " - `2>` $ - $ error redirection\n",
        " - `2>/dev/null` $ - $ error redirection to nowhere\n",
        "- **environment variables**  \n",
        " - `env` $ - $ list of env vars\n",
        " - `LANG=...` $ - $ change a variable  \n",
        " - `alias` $ - $ list of all existing  \n",
        " - `alias h=history` $ - $ create an alias  \n",
        "- I/O redirection  \n",
        " - `file < command` $ - $ use file as STDIN for command  \n",
        " - `command > file` $ - $ command STDOUT to file  \n",
        " - `command 2> file` $ - $ STDERR to file  \n",
        "\n"
      ],
      "metadata": {
        "id": "U-dHzdMzJhhp"
      }
    },
    {
      "cell_type": "markdown",
      "source": [
        "### Linux File System Hierarchy\n",
        "ROOT $⟵$ /dev/sda2\n",
        "- boot $⟵$ /dev/sda1\n",
        "- home $⟵$ /server:/home\n",
        "- var $⟵$ /dev/sdb\n",
        "- ..."
      ],
      "metadata": {
        "id": "RzMwzlv0OvJ1"
      }
    },
    {
      "cell_type": "markdown",
      "source": [
        "### Man\n",
        "All man pages are indexed in the mandb.\n",
        "- `man -k (+ regexp)` or `apropos` $ - $ serach mandb based on a keyword\n",
        "- use `grep` to filter\n",
        "- mandb is auto built through a cron scheduled task\n",
        "- `mandb` $ - $ manually trigger a rebuild"
      ],
      "metadata": {
        "id": "gWkUU-5bSJeI"
      }
    },
    {
      "cell_type": "markdown",
      "source": [
        "### VIM\n",
        "- `esc` $ - $ command mode\n",
        "- `i` $ - $ insert mode\n",
        "- `a` $ - $ append mode\n",
        "- `o` $ - $ new line + insert mode\n",
        "- `:wq`\n",
        "- `:wq!` - make vim to say \"no\" to its questions and only do `wq`\n",
        "- In command mode:\n",
        " - `dd` $ - $ delete line\n",
        " - `yy` $ - $ copy current line\n",
        " - `p` $ - $ paste it\n",
        " - `v` $ - $ visual mode. You can select a block of text\n",
        "   - `gg` $ - $ select all text\n",
        "   - `y` $ - $ copy it\n",
        " - `u` $ - $ undo\n",
        " - `ctrl-r` $ - $ redo\n",
        " - `gg` $ - $ cursor to first line\n",
        " - `G` $ - $ cursor to the end of file\n",
        " - `/text` $ - $ search after your cursor\n",
        " - `?text` $ - $ search begore your cursor\n",
        " - `^` $ - $ cursor to the beginning of line\n",
        " - `$` $ - $ cursor to the end of line\n",
        " - `:%s/old/new/g` $ - $ global substitute\n",
        " \n"
      ],
      "metadata": {
        "id": "boQdzZ7hTLsK"
      }
    },
    {
      "cell_type": "markdown",
      "source": [
        "### Globbing\n",
        "Shell feature that helps matching filnames. Not to be confused with reg exp, which helps finding text patterns.  \n",
        "`man 7 glob`  \n",
        "- `ls host*`\n",
        "- `ls ?ost`\n",
        "- `ls [hm]ost`\n",
        "- `ls [!hm]ost` $ - $ except files starting with \"h\" or \"m\"\n",
        "- `ls script[0-9][0-9]`\n",
        "- `touch script{0..100}`"
      ],
      "metadata": {
        "id": "H3M4vEp6V9xd"
      }
    },
    {
      "cell_type": "markdown",
      "source": [
        "### Cockpit\n",
        "`systemctl enable --now cockpit.socket`  \n",
        "Then check status and go to the port. There is a GUI for system management."
      ],
      "metadata": {
        "id": "cfS0O0odW5RD"
      }
    }
  ]
}