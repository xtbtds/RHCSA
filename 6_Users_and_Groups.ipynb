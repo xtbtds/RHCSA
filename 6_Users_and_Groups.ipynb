{
  "nbformat": 4,
  "nbformat_minor": 0,
  "metadata": {
    "colab": {
      "provenance": [],
      "collapsed_sections": [],
      "authorship_tag": "ABX9TyPc+r9UhqLG8LASOMaJvU6c",
      "include_colab_link": true
    },
    "kernelspec": {
      "name": "python3",
      "display_name": "Python 3"
    },
    "language_info": {
      "name": "python"
    }
  },
  "cells": [
    {
      "cell_type": "markdown",
      "metadata": {
        "id": "view-in-github",
        "colab_type": "text"
      },
      "source": [
        "<a href=\"https://colab.research.google.com/github/xtbtds/RHCSA/blob/main/6_Users_and_Groups.ipynb\" target=\"_parent\"><img src=\"https://colab.research.google.com/assets/colab-badge.svg\" alt=\"Open In Colab\"/></a>"
      ]
    },
    {
      "cell_type": "markdown",
      "source": [
        "`/etc/passwd`  \n",
        "Name, Password, UID, GID, GECOS, home dir, shell"
      ],
      "metadata": {
        "id": "7mBZf6I3Eg7y"
      }
    },
    {
      "cell_type": "markdown",
      "source": [
        "## Creating and Managing Users\n",
        "- `useradd`\n",
        "- `usermod -aG wheel luna` $ - $ add to a group\n",
        "- `id luna` $ - $ groups of user\n",
        "- `userdel -rf luna`\n",
        "- `passwd -l luna` $ - $ lock the password for luna user (root only)\n",
        "- `passwd -e luna` $ - $ expire the password for luna (root only)\n",
        "\n",
        "\n",
        "\n"
      ],
      "metadata": {
        "id": "dfwKEFRRE8oV"
      }
    },
    {
      "cell_type": "markdown",
      "source": [
        "## User Default Settings\n",
        "- `useradd -D` $ - $ show current config\n",
        "- `/etc/default/useradd`\n",
        "- `/etc/login.defs` $ - $ mail dir, PASS_MAX_DAYS, PASS_MIN_LEN, PASS_WARN_AGE, UID_MIN, GID_MIN/MAX, UMASK, CREATE_HOME\n",
        "- `/etc/skel` $ - $ files that are added to home dir after user creation"
      ],
      "metadata": {
        "id": "D_9v5-piGkfF"
      }
    },
    {
      "cell_type": "markdown",
      "source": [
        "## Passwd and Shadow\n",
        "- `/etc/shadow` $ - $ password properties  \n",
        "Password hash, number of days since first password, min days, max days, expiration warning days\n",
        "- `/etc/group`  \n",
        "Name, GID, members (as secondary group) "
      ],
      "metadata": {
        "id": "0rSq0V2VIJpd"
      }
    },
    {
      "cell_type": "markdown",
      "source": [
        "## Group Membership\n",
        "- Each user must be a member of at least one group\n",
        "- Primary groups are managed through /etc/passwd\n",
        "- User's primary group becomes group-owner if a user creates a file\n",
        "- Secondary groups are managed through /etc/groups\n",
        "- `id luna` $ - $ groups of user"
      ],
      "metadata": {
        "id": "IHkJ366xJxDj"
      }
    },
    {
      "cell_type": "markdown",
      "source": [
        "## Creating and Managing groups\n",
        "- `groupadd sales`\n",
        "- `groupdel`\n",
        "- `groupmod`\n",
        "- `lid -g groupname` $ - $ list all members\n",
        "  - `grep wheel /etc/group` $ - $ alternative\n"
      ],
      "metadata": {
        "id": "Atq18xawKn6r"
      }
    },
    {
      "cell_type": "markdown",
      "source": [
        "## Managing password properties\n",
        "- `/etc/login.defs` $ - $ basic password requirements\n",
        "- For advanced, Pluggable Authentication Modules (PAM) can be used\n",
        "- `chage luna` $ - $ change settings for a user\n",
        "- `passwd -u, -l, -d`"
      ],
      "metadata": {
        "id": "b8mD0YfzLP3i"
      }
    }
  ]
}