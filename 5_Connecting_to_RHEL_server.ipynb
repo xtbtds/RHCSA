{
  "nbformat": 4,
  "nbformat_minor": 0,
  "metadata": {
    "colab": {
      "provenance": [],
      "collapsed_sections": [],
      "authorship_tag": "ABX9TyMpsNPDMPI+NruE5jNrdtrw",
      "include_colab_link": true
    },
    "kernelspec": {
      "name": "python3",
      "display_name": "Python 3"
    },
    "language_info": {
      "name": "python"
    }
  },
  "cells": [
    {
      "cell_type": "markdown",
      "metadata": {
        "id": "view-in-github",
        "colab_type": "text"
      },
      "source": [
        "<a href=\"https://colab.research.google.com/github/xtbtds/RHCSA/blob/main/5_Connecting_to_RHEL_server.ipynb\" target=\"_parent\"><img src=\"https://colab.research.google.com/assets/colab-badge.svg\" alt=\"Open In Colab\"/></a>"
      ]
    },
    {
      "cell_type": "markdown",
      "source": [
        "## Virtual Terminals\n",
        "- `/dev/tty2`  \n",
        "- tty1-tty6 are available to login  \n",
        "- the GUI is on tty1\n",
        "- `chvt`\n",
        "- `ctrl-alt` switch between GUI and login CLI"
      ],
      "metadata": {
        "id": "yDRSRok5-PJn"
      }
    },
    {
      "cell_type": "markdown",
      "source": [
        "## su\n",
        "- `su` $ - $ opens a shell as another user\n",
        "- `su - ` $ - $ opens login shell instead of subshell"
      ],
      "metadata": {
        "id": "G6kpBsZDAO5o"
      }
    },
    {
      "cell_type": "markdown",
      "source": [
        "## sudo\n",
        "- Used to run tasks as another user. \n",
        "- Prompts for the password of the *current* *user*. \n",
        "- User must be authorized to use sudo.  \n",
        "- `/etc/sudoers` and `/etc/sudoers.d/*` $ - $ for authorization\n",
        "  - Do NOT edit directly, use **visudo**\n",
        "  - `%wheel ALL=(ALL)  ALL` $ - $ from all comps all commands as anyone\n",
        "  - `%users localhost=/sbin/shutdown -h now` $ - $ users from \"users\" group can shutdown the computer if they are localhost\n",
        "  - `luna ALL=/usr/sbin/useradd, /usr/bin/passwd`\n",
        "- Users that are members of group `wheel` can use sudo"
      ],
      "metadata": {
        "id": "NpjyJgjgA_IR"
      }
    },
    {
      "cell_type": "markdown",
      "source": [
        "## ssh\n",
        "- Identity of target server is verified through host keys\n",
        "  - host keys are in `~/.ssh/known_hosts`\n",
        "- `ssh -X` or `ssh -Y` $ - $ display graphical screens from target server locally\n",
        "- `ssh localhost`\n",
        "- `exit`\n",
        "- `ssh -Y luna@localhost`"
      ],
      "metadata": {
        "id": "_O0dDB4zDRgr"
      }
    }
  ]
}