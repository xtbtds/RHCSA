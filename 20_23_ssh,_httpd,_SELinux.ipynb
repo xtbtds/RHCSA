{
  "nbformat": 4,
  "nbformat_minor": 0,
  "metadata": {
    "colab": {
      "provenance": []
    },
    "kernelspec": {
      "name": "python3",
      "display_name": "Python 3"
    },
    "language_info": {
      "name": "python"
    }
  },
  "cells": [
    {
      "cell_type": "markdown",
      "source": [
        "# 20. SSH\n",
        "### Key-based login\n",
        "- private key (my comp)\n",
        "  - `ssh-keygen`\n",
        "- public key (server)\n",
        "  - `ssh-copy-id <destination_server>`\n",
        "- `ssh-agent /bin/bash` $ - $ allocate space in the bash shell to cache the private key passphrase\n",
        "- `ssh-add` $ - $ adds the current passphrase to the cash\n",
        "\n",
        "### SSH server options\n",
        "Server options: /etc/ssh/sshd_config  \n",
        "  - AllowUsers student root luna  \n",
        "  - `systemctl restart sshd`\n",
        "  \n",
        "Client options: /etc/ssh/ssh_config  \n",
        "Port: 22  \n",
        "\n",
        "\n",
        "### Securely copying files\n",
        "- `scp file1 fil2 user@server:/home/user`\n",
        "- `scp -r root@server:/tmp/files`\n",
        "- `sftp`\n",
        "  - `put /my/file`\n",
        "  - `get /your/file`\n",
        "  - `exit`\n",
        "  - `lpwd, lcd` $ - $ local\n",
        "  - `pwd, cd` $ - $ remote\n",
        "### Securely synchronize files\n",
        "- `rsync` $ - $ if source and target files already exists, it will only sync their differences\n",
        "  - `-r` $ - $ entire directory tree\n",
        "  - `-l` $ - $ symb. links\n",
        "  - `-p` $ - $ preserve symb.links\n",
        "  - `-n` $ - $ do a dry run before sync\n",
        "  - `-a` $ - $ archive mode (-rlptgoD)\n",
        "  - `-A` $ - $ archive mode + sync ACLs\n",
        "  - `-X` $ - $ sync SELinux\n",
        "- `rsync -ar root@192.143.23.43:/etc/ temp/`"
      ],
      "metadata": {
        "id": "X8LC8lX4xtB0"
      }
    },
    {
      "cell_type": "markdown",
      "source": [
        "# 21. HTTP services\n",
        "Apache (httpd), nginx.  \n",
        "- `/etc/httpd/conf/httpd.conf` $ - $ main config\n",
        "- `/etc/httpd/conf.d` $ - $ additional snap-in files\n",
        "- `/var/www/htdocs` $ - $ default DocumentRoot\n",
        "- `vi /var/www/html/index.html`\n",
        "- `systemctl restart httpd`\n",
        "- `curl http://localhost`\n",
        "\n",
        "\n"
      ],
      "metadata": {
        "id": "gsDY5SsYQSyO"
      }
    },
    {
      "cell_type": "markdown",
      "source": [
        "# 22. SELinux\n",
        "- enabled\n",
        "  - enforcing\n",
        "  - permissive\n",
        "- disabled\n",
        "____________\n",
        "- `getenforce` $ - $ current state\n",
        "- `setenforce` $ - $ enforcing(1)/permissive(0)\n",
        "- `/etc/sysconfig/selinux` $ - $ manage default state\n",
        "- never set as *disabled* for temporary measure!\n",
        "\n",
        "### Context labels\n",
        "Every object is labeled with a context label:\n",
        "1. user\n",
        "2. role\n",
        "3. type(flag) - which type of operation is allowed on this object\n",
        "\n",
        "\n",
        "- `ps auxZ` $ - $ process + SELinux info\n",
        "- `ls -lZ`\n",
        "- `getsebool -a`\n",
        "- `setsebool -P httpd_enable_homedirs on` $ - $ webserver can access home dir\n",
        "\n",
        "### File context labels\n",
        "- `semanage fcontext`\n",
        "- `restorecon` $ - $ enforce the policy setting on the file system\n",
        "- `restorecon -Rv /web`\n",
        "- `touch ./autorelabel` \n",
        "\n",
        "### Log messages\n",
        "- `auditd`\n",
        "- `/var/log/audit/audit.log`\n",
        "- `sealert` $ - $ writes meaning messages to /var/log/messages\n",
        "- `journalctl `\n"
      ],
      "metadata": {
        "id": "FU1cGGBYVW85"
      }
    }
  ]
}