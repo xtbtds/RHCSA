{
  "nbformat": 4,
  "nbformat_minor": 0,
  "metadata": {
    "colab": {
      "provenance": []
    },
    "kernelspec": {
      "name": "python3",
      "display_name": "Python 3"
    },
    "language_info": {
      "name": "python"
    }
  },
  "cells": [
    {
      "cell_type": "markdown",
      "source": [
        "## Options\n",
        "- `while getopts \"ab:\" opts`\n",
        "\n",
        "https://github.com/sandervanvugt/bash-scripting/blob/master/options\n",
        "https://github.com/sandervanvugt/bash-scripting/blob/master/makeuser\n",
        "\n",
        "- `shift $(($OPTIND -1))` $ - $ throw out the first argument (our option) to be able to see only next argument (in this case username)"
      ],
      "metadata": {
        "id": "_TOzQ6de3-ii"
      }
    },
    {
      "cell_type": "markdown",
      "source": [
        "## Variables in functions\n",
        "- Vars are ***ALWAYS global***, even if defined inside a function.\n",
        "- use `local` to make variable local\n",
        "\n",
        "https://github.com/sandervanvugt/bash-scripting/blob/master/funcvar\n",
        "\n"
      ],
      "metadata": {
        "id": "UaFTtWn2CD3A"
      }
    },
    {
      "cell_type": "markdown",
      "source": [
        "## Bash menu\n",
        "- `select` can be used to select a menu\n",
        "- `PS3` to define a menu prompt\n",
        "- `select` statement embeds a case statement\n",
        "- After exiting menu option, you are in main menu\n",
        "- `break` or `CTRL+C` to get out\n",
        "- `$REPLY` $ - $ default var that contains the string entered at the prompt\n",
        "https://github.com/sandervanvugt/bash-scripting/blob/master/mymenu "
      ],
      "metadata": {
        "id": "FIbxiGkvCvds"
      }
    },
    {
      "cell_type": "markdown",
      "source": [
        "## Trap\n",
        "Software interrupt. Run a command while catching a signal. Use it to catch signals you don't want to happen, like `INT (Ctrl+C)`. Or use it on `EXIT`, to define tasks that should happen when the script properly exits. \n",
        "- `SIGKILL (kill -9)` ***cannot*** be trapped\n",
        "- `SIGTERM (kill -15)` \n",
        "- `man 7 signals` or `trap -l`\n",
        "\n",
        "\n",
        "### Example 1\n",
        "\n",
        "https://github.com/sandervanvugt/bash-scripting/blob/master/trapme  \n",
        "`while : ` $ - $ the same as `while true`\n",
        "\n",
        "\n",
        "### Example 2\n",
        "```\n",
        "#!/bin/bash\n",
        "trap 'rm -f /tmp/ladder' INT\n",
        "rm /tmp/ladder\n",
        "touch /tmp/ladder\n",
        "ls -l /tmp/ladder\n",
        "echo trap me if you can\n",
        "sleep 400\n",
        "```\n",
        "Here we need to do something within 8 minutes. If we stop the script, it removes the file. If we don't, the file exists. Can be used like emergency exit.\n",
        "\n",
        "### Example 3\n",
        "https://github.com/sandervanvugt/bash-scripting/blob/master/cleanuponexit  \n",
        "Removes the file if exit. Add `sleep 5` before trap.\n",
        "\n",
        "### Example 4\n",
        "Photo."
      ],
      "metadata": {
        "id": "BzitIMeDE709"
      }
    }
  ]
}