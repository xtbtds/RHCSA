{
  "nbformat": 4,
  "nbformat_minor": 0,
  "metadata": {
    "colab": {
      "provenance": []
    },
    "kernelspec": {
      "name": "python3",
      "display_name": "Python 3"
    },
    "language_info": {
      "name": "python"
    }
  },
  "cells": [
    {
      "cell_type": "markdown",
      "source": [
        "### BIOS\n",
        "- ***MBR***  $ - $ Master Boot Record   \n",
        "  - 512 bytes to store boot info\n",
        "  - 64 bytes to store partitions\n",
        "  - 3 partitions for file systems, 4th partition is a container for logical\n",
        "  - Logical partitions (in extended partition *sda4*) - starts with number 5\n",
        "\n",
        "### UEFI\n",
        "- ***GPT***  $ - $ GUID Partition Table  \n",
        "  - 128 partitions.  \n",
        "  - no logical partitions\n",
        "\n",
        "___\n",
        "\n",
        "- `lsblk` $ - $ list block devices\n",
        "- `cat /proc/partitions` $ - $ all existing block devices in the system\n",
        "______\n",
        "\n",
        "\n",
        "\n"
      ],
      "metadata": {
        "id": "6YYO8Ap01yN3"
      }
    },
    {
      "cell_type": "markdown",
      "source": [
        "## Linux storage options\n",
        "- Partitions\n",
        "- LVM Logical Volumes\n",
        "- Stratis\n",
        "- Virtual Data Optimizer"
      ],
      "metadata": {
        "id": "hPXToA6R94wd"
      }
    },
    {
      "cell_type": "markdown",
      "source": [
        "## Creating partitions with ***parted***\n",
        "- `parted /dev/sdb`\n",
        "- `print`\n",
        "- `mklabel msdos|gpt`\n",
        "- `mkpart [part-type name fs-type start end]`\n",
        "- `mkpart one 1MiB 1024MiB`\n",
        "- `quit`\n",
        "- `udevadm settle` $ - $ update devices"
      ],
      "metadata": {
        "id": "efm1PtdKAYcV"
      }
    },
    {
      "cell_type": "markdown",
      "source": [
        "## Creating MBR partitions with ***fdisk***\n",
        "- `fdisk /dev/nvm0n3`\n",
        "- `partprobe` $ - $ update partition table"
      ],
      "metadata": {
        "id": "kLsDGpaaAaQA"
      }
    },
    {
      "cell_type": "markdown",
      "source": [
        "## File system differences\n",
        "- ***XFS***\n",
        "  - default for RHEL8\n",
        "  - fast and scalable\n",
        "  - uses CoW to guarantee data integrity\n",
        "  - size can be increased, not decreased\n",
        "- ***Ext4***\n",
        "  - backward compatible to Ext2\n",
        "  - uses Journal to guarantee data integrity\n",
        "  - size can be increased and decreased\n"
      ],
      "metadata": {
        "id": "yw0igvlkiR5Z"
      }
    },
    {
      "cell_type": "markdown",
      "source": [
        "## Make and mount file systems\n",
        "- `mkfs.TAB.TAB` $ - $ see available file systems\n",
        "- `mkfs.xfs /dev/sdb1`\n",
        "- `mkfs.ext4`\n",
        "- `mount /dev/sdb1 /mnt` $ - $ mount temporarily\n",
        "- `mount | grep '^/'` $ - $ verify\n",
        "- `umount /dev/sdb1` or `umount /mnt`\n",
        "- `lsof /mnt` $ - $ list open files in /mnt\n",
        "- "
      ],
      "metadata": {
        "id": "q6PZOFIYjhNV"
      }
    },
    {
      "cell_type": "markdown",
      "source": [
        "## Mount partitions using ***/etc/fstab***\n",
        "- `/etc/fstab` $ - $ main config file to persistently mount partitions. Used to generate systemd mounts by the **systemd-fstab-generator** utility\n",
        "- - `/dev/sdb1   /xfs   xfs   defaults    0 0` $ - $ add this line\n",
        "- `systemctl daemon-reload` $ - $ update systemd after editing /etc/fstab\n",
        "- `mkdir /xfs` $ - $ create mountpoints\n",
        "- `mount -a ` $ - $ mount all file systems"
      ],
      "metadata": {
        "id": "zIlB-U-ymJhW"
      }
    },
    {
      "cell_type": "markdown",
      "source": [
        "## Managing persistent naming attributes\n",
        "###***Problem***\n",
        "When we make logical partitions, we see many device names such as `/dev/nvm0n3p6`. But they may change. The last symbol stands for the number of logical partition and it is generated automatically every time we do `mount -a`, the first will be always 5. So there can be a conflict: there first may be 5, but we assigned 6. To avoid it during modifing /`etc/fstab`, use *LABEL* (unique device name) instead of `/dev/nvm0n3p6`, where the last digit is always different depending on how many partitions we have to mount before current.\n",
        "###***Demonstration***\n",
        "1. Create new partitions:\n",
        "  - `fdisk /dev/sdb`\n",
        "2. Create file systems for them:\n",
        "  - `mkfs.xfs /dev/sdb5`\n",
        "  - `mkfs.ext4 /dev/sdb6`\n",
        "3. Create directories for file systems:\n",
        "  - `mkdir /books /articles`\n",
        "4. Edit `/etc/fstab`\n",
        "  - `/dev/sdb5 /books xfs defaults 0 0`\n",
        "  - `/dev/sdb6 /articles ext4 defaults 0 0`\n",
        "5. `mount -a`\n",
        "6. Delete the 5th logical partition:\n",
        "  - `fdisk /dev/sdb`\n",
        "  - `d`\n",
        "  - `5`\n",
        "  - `w`\n",
        "7. Error \"device busy\"\n",
        "  - comment line with 5th partition in `/etc/fstab`\n",
        "8. Reboot.\n",
        "  - Press 'e' to edit. Erase \"rhgb quiet\" to see how the Linux boots.\n",
        "  - During booting there will be en error saying it cann't access /dev/sdb6.\n",
        "  - Emergency mode is loaded. Enter root password.\n",
        "  - Comment line with 6th partition in `/etc/fstab`\n",
        "  - Ctrl+D to normal operational mode.\n",
        "9. `lsblk`\n",
        "10. `blkid` $ - $ block id, lists UUID and LABEL\n",
        "11. ***tune2fs*** and ***xfs_admin*** utilities\n",
        "  - `tune2fs -L articles /dev/sdb5`\n",
        "  - `LABEL=articles /articles ext4 default 0 0` $ - $ in `/etc/fstab`\n",
        "  - `mount -a`\n",
        "  - `mount | grep artic`\n",
        "\n",
        "\n",
        "___________________\n",
        "\n",
        "- ***UUID*** $ - $ autogenerated for each device with file system\n",
        "- ***LABEL*** $ - $ while creating file system, use option `-L`\n",
        "___________________\n",
        "### System unique device names\n",
        "- `cd /dev/disk`\n",
        "- `ls by-path`\n"
      ],
      "metadata": {
        "id": "A7Or8ZQYngO8"
      }
    },
    {
      "cell_type": "markdown",
      "source": [
        "## Managing systemd mounts\n",
        "- /etc/fstab mounts are already systemd mounts\n",
        "- mounts can be created using systemd .mount files\n",
        "- using .mount files allows you to be more specific in defining dependencies\n",
        "- `systemctl cat tmp.mount` $ - $ example\n",
        "- `mount -a | grep tmp` $ - $ won't work\n",
        "- `systemctl enable --now tmp.mount`\n",
        "- `mount | grep tmp`  \n",
        "\n",
        "Make persistent:  \n",
        "- Comment line for articles from /etc/fstab\n",
        "- `cp /usr/lib/systemd/system/tmp/mount /etc/systemd/system/articles.mount` (name should reflect the name of the mount directory. For /data/articles should be data-articles.mount)\n",
        "- \n",
        "```\n",
        "[Mount]\n",
        "What=LABEL=articles\n",
        "Where=/articles\n",
        "Type=ext4\n",
        "Options=defaults\n",
        "```\n",
        "- `systemctl daemon-reload` $ - $ tell the system about new .mount file\n",
        "- `systemctl status articles.mount` $ - $ loaded(/proc/self/mountinfo), this file was autogenerated by fstab, because fs has already been mounted with /etc/fstab\n",
        "- `umount /articles`\n",
        "- `systemctl enable --now articles.mount`\n",
        "- `systemctl status articles.mount` $ - $ correct"
      ],
      "metadata": {
        "id": "Zo8Elkqf_VfL"
      }
    },
    {
      "cell_type": "markdown",
      "source": [
        "## Managing XFS\n",
        "####***xfsdump***\n",
        "- creates backups\n",
        "- `xfsdump -l 0 -f /backupfiles/data.xfsdump /data`\n",
        "\n",
        "####***xfsrestore***\n",
        "- restores backups\n",
        "- `xfsrestore -f /backupfiles/data.xfsdump /data`\n",
        "\n",
        "####***xfsrepair***\n"
      ],
      "metadata": {
        "id": "DWz5I3nfSrJE"
      }
    },
    {
      "cell_type": "markdown",
      "source": [
        "## Swap\n",
        "Swap is RAM emulated on disk. Can be created on any block device, including swap files.  \n",
        "####***parted:***\n",
        "- `parted /dev/sdb`\n",
        "- `mkpart *enter*`\n",
        "  - name: swap\n",
        "  - file system: linux-swap \n",
        "  - start\n",
        "  - end\n",
        "- `lsblk` $ - $ check our new partition name (f.e. /dev/sdb2)\n",
        "- `mkswap /dev/sdb2` $ - $ create swap file system\n",
        "- `free -m` $ - $ see current swap space\n",
        "- `swapon` $ - $ activate\n",
        "- `free -m` $ - $ see swap space is bigger  \n",
        "\n",
        "But its still not persistant. To make mount persistant do:\n",
        "- `/dev/sdb2 swap swap defaults 0 0` in /etc/fstab\n",
        "- `systemctl daemon-reload`\n",
        "\n",
        "####***fdisk:***\n",
        "- partition type *82*"
      ],
      "metadata": {
        "id": "citYRHUETkTD"
      }
    },
    {
      "cell_type": "code",
      "source": [],
      "metadata": {
        "id": "wpzpFxE6mlz3"
      },
      "execution_count": null,
      "outputs": []
    }
  ]
}