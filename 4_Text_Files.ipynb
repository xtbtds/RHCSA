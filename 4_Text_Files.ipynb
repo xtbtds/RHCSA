{
  "nbformat": 4,
  "nbformat_minor": 0,
  "metadata": {
    "colab": {
      "provenance": [],
      "collapsed_sections": [],
      "authorship_tag": "ABX9TyNANBtPQn34w4+el0pOz+n+",
      "include_colab_link": true
    },
    "kernelspec": {
      "name": "python3",
      "display_name": "Python 3"
    },
    "language_info": {
      "name": "python"
    }
  },
  "cells": [
    {
      "cell_type": "markdown",
      "metadata": {
        "id": "view-in-github",
        "colab_type": "text"
      },
      "source": [
        "<a href=\"https://colab.research.google.com/github/xtbtds/RHCSA/blob/main/4_Text_Files.ipynb\" target=\"_parent\"><img src=\"https://colab.research.google.com/assets/colab-badge.svg\" alt=\"Open In Colab\"/></a>"
      ]
    },
    {
      "cell_type": "markdown",
      "source": [
        "## Common Text Tools\n",
        "- `more`\n",
        "- `less`\n",
        "- `head -n 5 /etc/passwd`\n",
        "- `tail -n 20 file`\n",
        "- `head -n 5 /etc/passwd | tail -n 1`\n",
        "- `tail -f /var/log/messages` $ - $ show in real time what is happening in a file\n",
        "- `cat`\n",
        "  - `-A` show non-printable chars\n",
        "  - `-b` numbers lines\n",
        "  - `-s` suppresses repeated empty lines\n",
        "- `tac` $ - $ reversed cat\n",
        "- `cut -f 3 -d : /etc/passwd | less` $ - $ shows field 3 separated by delimeter \":\"\n",
        "- `... | sort` $ - $ sort in alphabetic order\n",
        "- `sort -n` $ - $ sort as numbers\n",
        "- `... | tr [a-z] [A-Z]` $ - $ translates lower to upper\n",
        "- `... | tr [:lower:] [:upper:]`\n"
      ],
      "metadata": {
        "id": "MhUftVWIiUAF"
      }
    },
    {
      "cell_type": "markdown",
      "source": [
        "## Grep\n",
        "Generit Regular Expression Parser.  \n",
        "Find text in files or in output.\n",
        "- `grep luna *` $ - $ finds text \"luna\" in files in current directory\n",
        "- `grep -l luna *` $ - $ shows only files in current directory that contain text \"luna\" inside\n",
        "- `grep -i luna *` $ - $ no matter upper- of lowercase\n",
        "- `grep -A5 luna /etc/passwd` $ - $ 5 lines after\n",
        "- `grep -B5 luna /etc/passwd` $ - $ 5 lines before\n",
        "- `grep -R root /etc`  $ - $ recursively finds word \"root\" in files in directory /etc\n",
        "- `grep -l '\\<root\\>' /etc` $ - $ names of files in /etc that contain text \"root\" as a word\n",
        "- `grep '^...$' *` $ - $ all lines from all files in /etc that contain exactly 3 chars\n",
        "- `grep '\\<root\\>' *` $ - $ all files that contain string root\n",
        "\n"
      ],
      "metadata": {
        "id": "X6NWOmpNpt9b"
      }
    },
    {
      "cell_type": "markdown",
      "source": [
        "## Regular Expressions\n",
        "Regex - text inside files, Globbing - text in filenames.  \n",
        "- `grep 'a*' a*` $ - $ first a* is regex, second is globbing. \n",
        "\n",
        "Regex are for use use only with: **grep, vim, awk, sed**.  \n",
        "- `man 7 regex`\n",
        "\n",
        "_____\n",
        "- `grep 'b.t' file` $ - $ one char\n",
        "- `.*`, `o*` $ - $ $\\geq 0$ times\n",
        "- `egrep 'b.?t' file` $ - $ extended; 0 or 1 occurence\n",
        "- `^` $ - $ beginning of the line\n",
        "- `$` $ - $ end of the line\n",
        "- `\\<` $ - $ beginning of word\n",
        "- `\\>` $ - $ end of word\n",
        "- `+` $ - $ $\\geq 1$ times\n",
        "- `?` $ - $ 0 or 1\n",
        "- `{n}` $ - $ exactly n times"
      ],
      "metadata": {
        "id": "bU3Qu0UQrVd6"
      }
    },
    {
      "cell_type": "markdown",
      "source": [
        "## Awk\n",
        "- `awk -F : '/luna/ { print $4 }' /etc/passwd`\n",
        "- `awk -F : '{ print $NF }' /etc/passwd` $ - $ last field\n",
        "- `ls -l /etc | awk '/pass/ { print }' | less` $ - $ look for pass"
      ],
      "metadata": {
        "id": "phjsYx2a4cGT"
      }
    },
    {
      "cell_type": "markdown",
      "source": [
        "## Sed\n",
        "Stream EDitor.  \n",
        "- `sed -n 4p sedfile` $ - $ fourth line\n",
        "- `sed -i s/four/FOUR/g sedfile` $ - $ replace and write (-i) to this file\n",
        "- `sed -i -e '2d' sedfile` $ - $ delete (-e=edit) second line"
      ],
      "metadata": {
        "id": "vzVG7W-c5hP-"
      }
    },
    {
      "cell_type": "markdown",
      "source": [
        "## "
      ],
      "metadata": {
        "id": "QS_YoUmiortq"
      }
    }
  ]
}