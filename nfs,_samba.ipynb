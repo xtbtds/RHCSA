{
  "nbformat": 4,
  "nbformat_minor": 0,
  "metadata": {
    "colab": {
      "provenance": []
    },
    "kernelspec": {
      "name": "python3",
      "display_name": "Python 3"
    },
    "language_info": {
      "name": "python"
    }
  },
  "cells": [
    {
      "cell_type": "markdown",
      "source": [
        "## nfs\n",
        "####***server***\n",
        "- `systemctl status nfs-server`\n",
        "- `mkdir /data` $ - $ create a dir to share\n",
        "- `vi /etc/exports`\n",
        "  - `/data *(rw,no_root_squash)`\n",
        "- `systemctl enable --now nfs-server`\n",
        "- `firewall-cmd --add-service nfs mountd rpc-bind --permanent`\n",
        "- `firewall-cmd -- reload`\n",
        "- `firewall-cmd --list-all`\n",
        "\n",
        "####***client***\n",
        "- `showmount -e nfs-server-ip`\n",
        "- `mount nfsserver:/share /mnt`\n",
        "\n",
        "But its not persistent.\n",
        "\n",
        "- `umount /mnt`\n",
        "- `/etc/fstab`\n",
        "  - `nfs-server-ip:/data /nfs nfs _netdev 0 0`\n",
        "- `mount -a`\n",
        "\n",
        "## samba\n",
        "- `yum install samba`\n",
        "- `mkdir /samba`\n",
        "- `useradd samba\n",
        "- `chown samba /samba\n",
        "- `chmod 770 /samba`\n"
      ],
      "metadata": {
        "id": "A8-nlMVita5e"
      }
    }
  ]
}