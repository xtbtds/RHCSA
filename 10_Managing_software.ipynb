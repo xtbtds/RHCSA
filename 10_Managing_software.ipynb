{
  "nbformat": 4,
  "nbformat_minor": 0,
  "metadata": {
    "colab": {
      "provenance": []
    },
    "kernelspec": {
      "name": "python3",
      "display_name": "Python 3"
    },
    "language_info": {
      "name": "python"
    }
  },
  "cells": [
    {
      "cell_type": "markdown",
      "source": [
        "## RPM packages. Set up repository access.\n",
        "Create a Local Repo to install packages from RHEL 8 ISO.\n",
        "1. Create ISO image: `dd if=/dev/sr0 of=/rhel8.iso bs=1M`\n",
        "2. Create a mount point: `mkdir /repo`\n",
        "3. Add to `/etc/fstab`:  \n",
        "    `/rhel8.iso    /repo    iso9660    defaults    0 0`\n",
        "4. `systemctl daemon-reload`\n",
        "5. `mount -a`\n",
        "6. `cd /repo`\n",
        "\n",
        "#### Accessing local repo\n",
        "1. Create file `/etc/yum.repos.d/appstream.repo`:  \n",
        "    [appstream]  \n",
        "    name=appstream  \n",
        "    baseurl=file:///repo/AppStream  \n",
        "    gpgcheck=0  \n",
        "2. Create file `/etc/yum.repos.d/base.repo`:  \n",
        "    [base]  \n",
        "    name=base  \n",
        "    baseurl=file:///repo/BaseOS  \n",
        "    gpgcheck=0  \n",
        "3. `yum repolist` $ - $ check them\n",
        "\n",
        "\n",
        "\n"
      ],
      "metadata": {
        "id": "uN_73B6-9Xm8"
      }
    },
    {
      "cell_type": "markdown",
      "source": [
        "## Modules and app streams\n",
        "- App streams are used to separate user space packages from core kernel ops\n",
        "- Allow working with different versions of packages\n",
        "- Base packages - BaseOS repo\n",
        "- AppStream - separate repo\n",
        "\n",
        "App Streams are delivered in 2 formats:\n",
        "1. traditional RPMs\n",
        "2. New Modules\n",
        "- Modules can contain streams to make multiple versions of app available\n",
        "- Enabling a module stream gives access to RPM packages in that stream\n",
        "- Modules can have profiles - list of packages for a specific case"
      ],
      "metadata": {
        "id": "0Oy92ZNvAE6Z"
      }
    },
    {
      "cell_type": "markdown",
      "source": [
        "##yum \n",
        "- `yum search package`\n",
        "- `yum install package -y`\n",
        "- `yum remove`\n",
        "- `yum update`\n",
        "- `yum provides` $ - $ deep search\n",
        "- `yum info`\n",
        "- `yum list all` $ - $ show all packages with their repos\n",
        "- `yum list installed`"
      ],
      "metadata": {
        "id": "q8hxtK8OK9X_"
      }
    },
    {
      "cell_type": "markdown",
      "source": [
        "## yum module\n",
        "- `yum module list`\n",
        "- `yum module provides httpd`\n",
        "- `yum module info php`\n",
        "- `yum module info --profile php`\n",
        "- `yum module list php` $ - $ which streams are available\n",
        "- `yum module install php:7.1` or `yum install @php:7.1`\n",
        "- `yum module install php:7.1/devel` $ - $ installs a specific profile\n",
        "- `yum module enable php:7.1` $ - $ enable module but not install\n",
        "- `yum distro-sync` $ - $ up/downgrade packages from previous module stream\n",
        "\n"
      ],
      "metadata": {
        "id": "jL0knKWGL27y"
      }
    },
    {
      "cell_type": "markdown",
      "source": [
        "## yum groups\n",
        "Give access to specific categories of software.  \n",
        "- `yum groups list` $ - $ most common\n",
        "- `yum groups list hidden` $ - $ all\n",
        "- `yum groups info <name>`\n",
        "- `yum groups install <name>`\n",
        "\n"
      ],
      "metadata": {
        "id": "DWLpXFzkOIJA"
      }
    },
    {
      "cell_type": "markdown",
      "source": [
        "## yum history\n",
        "- `yum history`\n",
        "- `yum history undo 3`\n",
        "## yum update\n",
        "- `yum update`\n",
        "- `yum update package`"
      ],
      "metadata": {
        "id": "4pwB8J1iQEZd"
      }
    },
    {
      "cell_type": "markdown",
      "source": [
        "## RPM queries\n",
        "- `rpm -qf /any/file` $ - $ package name the file is coming from\n",
        "- `rpm -ql mypackage` $ - $ files in a package\n",
        "- `rpm -qc mypackage` $ - $ conf files of package\n",
        "- `rpm -qp --scripts mypackage-file.rpm` $ - $ packages in a file but not yet installed\n"
      ],
      "metadata": {
        "id": "7aot0KOBQbr-"
      }
    },
    {
      "cell_type": "markdown",
      "source": [
        "## Red Hat subscription manager\n"
      ],
      "metadata": {
        "id": "wSajIhGTRy_v"
      }
    }
  ]
}